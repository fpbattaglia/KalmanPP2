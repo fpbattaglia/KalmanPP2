{
 "cells": [
  {
   "cell_type": "code",
   "execution_count": 3,
   "source": [
    "import numpy as np\n",
    "import matplotlib.pyplot as plt"
   ],
   "metadata": {
    "collapsed": false,
    "ExecuteTime": {
     "end_time": "2024-04-17T12:01:28.852995Z",
     "start_time": "2024-04-17T12:01:28.682121Z"
    }
   },
   "id": "51aef2479d122b1e",
   "outputs": []
  },
  {
   "cell_type": "code",
   "execution_count": 1,
   "id": "initial_id",
   "metadata": {
    "collapsed": true,
    "ExecuteTime": {
     "end_time": "2024-04-17T12:00:39.018387Z",
     "start_time": "2024-04-17T12:00:38.943368Z"
    }
   },
   "source": [
    "import ukf_voss"
   ],
   "outputs": []
  },
  {
   "cell_type": "code",
   "execution_count": 2,
   "source": [
    "nature = ukf_voss.FNNature(ll=800, dT=0.2, dt=0.02)"
   ],
   "metadata": {
    "collapsed": false,
    "ExecuteTime": {
     "end_time": "2024-04-17T12:01:01.626048Z",
     "start_time": "2024-04-17T12:01:01.624674Z"
    }
   },
   "id": "4320c465a0556250",
   "outputs": []
  },
  {
   "cell_type": "code",
   "execution_count": 6,
   "source": [
    "plt.plot(nature.x0[0, :])"
   ],
   "metadata": {
    "collapsed": false,
    "ExecuteTime": {
     "end_time": "2024-04-17T12:02:29.586067Z",
     "start_time": "2024-04-17T12:02:29.525850Z"
    }
   },
   "id": "8eddb697abf1ac61",
   "outputs": []
  },
  {
   "cell_type": "code",
   "execution_count": 11,
   "source": [
    "plt.plot(nature.y[0,:])"
   ],
   "metadata": {
    "collapsed": false,
    "ExecuteTime": {
     "end_time": "2024-04-17T12:06:04.862063Z",
     "start_time": "2024-04-17T12:06:04.802870Z"
    }
   },
   "id": "a3bfb2915e45c339",
   "outputs": []
  },
  {
   "cell_type": "code",
   "execution_count": 8,
   "source": [
    "# define the model\n",
    "Q_var0 = np.diag((nature.R, nature.R))\n",
    "fn_model = ukf_voss.FNModel(Q_var=Q_var0, R=nature.R)"
   ],
   "metadata": {
    "collapsed": false,
    "ExecuteTime": {
     "end_time": "2024-04-17T12:03:40.725930Z",
     "start_time": "2024-04-17T12:03:40.720800Z"
    }
   },
   "id": "7f538531a0d7bfd3",
   "outputs": []
  },
  {
   "cell_type": "code",
   "execution_count": 10,
   "source": [
    "uk_filter = ukf_voss.UKFVoss(model=fn_model)"
   ],
   "metadata": {
    "collapsed": false,
    "ExecuteTime": {
     "end_time": "2024-04-17T12:05:35.488957Z",
     "start_time": "2024-04-17T12:05:35.485171Z"
    }
   },
   "id": "d6646c595dbe7b5d",
   "outputs": []
  },
  {
   "cell_type": "code",
   "execution_count": 12,
   "source": [
    "x_hat0, Pxx0, Ks0, errors0 = uk_filter.filter(nature.y)"
   ],
   "metadata": {
    "collapsed": false,
    "ExecuteTime": {
     "end_time": "2024-04-17T12:06:27.461496Z",
     "start_time": "2024-04-17T12:06:27.019022Z"
    }
   },
   "id": "21a4eeab9222c190",
   "outputs": []
  },
  {
   "cell_type": "code",
   "execution_count": 13,
   "source": [
    "plt.figure()\n",
    "dq=1\n",
    "plt.subplot(2, 1, 1)\n",
    "plt.plot(nature.y.ravel(), 'bd', markeredgecolor='blue', markerfacecolor='blue', markersize=3)\n",
    "plt.plot(nature.x0[0, :], color='black', linewidth=2)\n",
    "plt.plot(x_hat0[dq + 0, :], 'r', linewidth=2)\n",
    "plt.xlabel('t')\n",
    "plt.ylabel('x_1, y')\n",
    "plt.title('(a)')\n",
    "plt.legend(('observations', 'real x_1', 'estimated x_1'))\n",
    "plt.subplot(2, 1, 2)\n",
    "plt.plot(nature.x0[1, :], color='black', linewidth=2)\n",
    "plt.plot(x_hat0[dq + 1, :], 'r', linewidth=2)\n",
    "plt.plot(nature.p[0, :], color='black', linewidth=2)\n",
    "for i in range(dq):\n",
    "    plt.plot(x_hat0[i, :], 'm', linewidth=2)\n",
    "for i in range(dq):\n",
    "    plt.plot(x_hat0[i, :] + errors0[i, :], 'm')\n",
    "for i in range(dq):\n",
    "    plt.plot(x_hat0[i, :] - errors0[i, :], 'm')\n",
    "    \n",
    "plt.xlabel('t')\n",
    "plt.ylabel('z, estimated z, x_2, estimated x_2')\n",
    "plt.title('(b)')\n",
    "\n",
    "\n",
    "plt.tight_layout()"
   ],
   "metadata": {
    "collapsed": false,
    "ExecuteTime": {
     "end_time": "2024-04-17T12:29:47.768030Z",
     "start_time": "2024-04-17T12:29:47.644162Z"
    }
   },
   "id": "d41029f8fef9be33",
   "outputs": []
  },
  {
   "cell_type": "code",
   "execution_count": null,
   "source": [],
   "metadata": {
    "collapsed": false
   },
   "id": "ce68005e86f86645",
   "outputs": []
  }
 ],
 "metadata": {
  "kernelspec": {
   "display_name": "Python 3",
   "language": "python",
   "name": "python3"
  },
  "language_info": {
   "codemirror_mode": {
    "name": "ipython",
    "version": 2
   },
   "file_extension": ".py",
   "mimetype": "text/x-python",
   "name": "python",
   "nbconvert_exporter": "python",
   "pygments_lexer": "ipython2",
   "version": "2.7.6"
  }
 },
 "nbformat": 4,
 "nbformat_minor": 5
}
